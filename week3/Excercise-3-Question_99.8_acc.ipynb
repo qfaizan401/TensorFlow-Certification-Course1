{
 "cells": [
  {
   "cell_type": "markdown",
   "metadata": {
    "colab_type": "text",
    "id": "iQjHqsmTAVLU"
   },
   "source": [
    "## Exercise 3\n",
    "In the videos you looked at how you would improve Fashion MNIST using Convolutions. For your exercise see if you can improve MNIST to 99.8% accuracy or more using only a single convolutional layer and a single MaxPooling 2D. You should stop training once the accuracy goes above this amount. It should happen in less than 20 epochs, so it's ok to hard code the number of epochs for training, but your training must end once it hits the above metric. If it doesn't, then you'll need to redesign your layers.\n",
    "\n",
    "I've started the code for you -- you need to finish it!\n",
    "\n",
    "When 99.8% accuracy has been hit, you should print out the string \"Reached 99.8% accuracy so cancelling training!\"\n"
   ]
  },
  {
   "cell_type": "code",
   "execution_count": 1,
   "metadata": {},
   "outputs": [],
   "source": [
    "import tensorflow as tf\n",
    "from os import path, getcwd, chdir\n",
    "\n",
    "# DO NOT CHANGE THE LINE BELOW. If you are developing in a local\n",
    "# environment, then grab mnist.npz from the Coursera Jupyter Notebook\n",
    "# and place it inside a local folder and edit the path to that location\n",
    "path = f\"{getcwd()}/../tmp2/mnist.npz\""
   ]
  },
  {
   "cell_type": "code",
   "execution_count": 2,
   "metadata": {},
   "outputs": [],
   "source": [
    "config = tf.ConfigProto()\n",
    "config.gpu_options.allow_growth = True\n",
    "sess = tf.Session(config=config)"
   ]
  },
  {
   "cell_type": "code",
   "execution_count": 5,
   "metadata": {},
   "outputs": [],
   "source": [
    "# GRADED FUNCTION: train_mnist_conv\n",
    "def train_mnist_conv():\n",
    "    # Please write your code only where you are indicated.\n",
    "    # please do not remove model fitting inline comments.\n",
    "\n",
    "    # YOUR CODE STARTS HERE\n",
    "    \n",
    "    import tensorflow as tf\n",
    "    \n",
    "    class myCallbacks(tf.keras.callbacks.Callback):\n",
    "        def on_epoch_end(self, epoch, logs={}):\n",
    "            if logs.get('loss') < 0.005 :\n",
    "                print('\\nReached 99.8% accuracy so cancelling training!')\n",
    "                self.model.stop_training = True\n",
    "    \n",
    "    callback = myCallbacks()\n",
    "    \n",
    "    # YOUR CODE ENDS HERE\n",
    "\n",
    "    mnist = tf.keras.datasets.mnist\n",
    "    (training_images, training_labels), (test_images, test_labels) = mnist.load_data(path=path)\n",
    "    # YOUR CODE STARTS HERE\n",
    "    \n",
    "    training_images = training_images.reshape(60000,28,28,1)\n",
    "    training_images = training_images/255\n",
    "    \n",
    "    test_images = test_images.reshape(10000,28,28,1)\n",
    "    test_images = test_images/255\n",
    "\n",
    "    # YOUR CODE ENDS HERE\n",
    "\n",
    "    model = tf.keras.models.Sequential([\n",
    "            # YOUR CODE STARTS HERE\n",
    "        \n",
    "        tf.keras.layers.Conv2D(256, (3,3), activation=tf.nn.relu),\n",
    "        tf.keras.layers.MaxPool2D(2,2),\n",
    "        tf.keras.layers.Flatten(),\n",
    "        tf.keras.layers.Dense(128, activation=tf.nn.relu),\n",
    "        tf.keras.layers.Dense(64, activation=tf.nn.relu),\n",
    "        tf.keras.layers.Dense(10, activation=tf.nn.softmax)\n",
    "\n",
    "            # YOUR CODE ENDS HERE\n",
    "    ])\n",
    "\n",
    "    model.compile(optimizer='adam', loss='sparse_categorical_crossentropy', metrics=['accuracy'])\n",
    "    # model fitting\n",
    "    history = model.fit(\n",
    "        # YOUR CODE STARTS HERE\n",
    "        training_images,\n",
    "        training_labels,\n",
    "        epochs=15,\n",
    "        callbacks = [callback]\n",
    "        # YOUR CODE ENDS HERE\n",
    "    )\n",
    "    # model fitting\n",
    "    return history.epoch, history.history['acc'][-1]\n",
    "\n"
   ]
  },
  {
   "cell_type": "code",
   "execution_count": 6,
   "metadata": {},
   "outputs": [
    {
     "name": "stdout",
     "output_type": "stream",
     "text": [
      "Epoch 1/15\n",
      "60000/60000 [==============================] - 16s 264us/sample - loss: 0.1327 - acc: 0.9598\n",
      "Epoch 2/15\n",
      "60000/60000 [==============================] - 16s 263us/sample - loss: 0.0466 - acc: 0.9855\n",
      "Epoch 3/15\n",
      "60000/60000 [==============================] - 16s 264us/sample - loss: 0.0280 - acc: 0.9908\n",
      "Epoch 4/15\n",
      "60000/60000 [==============================] - 16s 264us/sample - loss: 0.0190 - acc: 0.9941\n",
      "Epoch 5/15\n",
      "60000/60000 [==============================] - 16s 260us/sample - loss: 0.0148 - acc: 0.9949\n",
      "Epoch 6/15\n",
      "60000/60000 [==============================] - 16s 262us/sample - loss: 0.0118 - acc: 0.9961\n",
      "Epoch 7/15\n",
      "60000/60000 [==============================] - 16s 262us/sample - loss: 0.0101 - acc: 0.9968\n",
      "Epoch 8/15\n",
      "60000/60000 [==============================] - 16s 268us/sample - loss: 0.0075 - acc: 0.9975\n",
      "Epoch 9/15\n",
      "60000/60000 [==============================] - 16s 267us/sample - loss: 0.0061 - acc: 0.9983\n",
      "Epoch 10/15\n",
      "60000/60000 [==============================] - 16s 264us/sample - loss: 0.0083 - acc: 0.9975\n",
      "Epoch 11/15\n",
      "60000/60000 [==============================] - 16s 272us/sample - loss: 0.0064 - acc: 0.9980\n",
      "Epoch 12/15\n",
      "60000/60000 [==============================] - 15s 255us/sample - loss: 0.0061 - acc: 0.9984\n",
      "Epoch 13/15\n",
      "59712/60000 [============================>.] - ETA: 0s - loss: 0.0041 - acc: 0.9987\n",
      "Reached 99.8% accuracy so cancelling training!\n",
      "60000/60000 [==============================] - 16s 260us/sample - loss: 0.0042 - acc: 0.9987\n"
     ]
    }
   ],
   "source": [
    "epochs, history = train_mnist_conv()"
   ]
  },
  {
   "cell_type": "code",
   "execution_count": null,
   "metadata": {},
   "outputs": [],
   "source": [
    "# Now click the 'Submit Assignment' button above.\n",
    "# Once that is complete, please run the following two cells to save your work and close the notebook"
   ]
  },
  {
   "cell_type": "code",
   "execution_count": 5,
   "metadata": {},
   "outputs": [
    {
     "data": {
      "application/javascript": [
       "<!-- Save the notebook -->\n",
       "IPython.notebook.save_checkpoint();\n"
      ],
      "text/plain": [
       "<IPython.core.display.Javascript object>"
      ]
     },
     "metadata": {},
     "output_type": "display_data"
    }
   ],
   "source": [
    "%%javascript\n",
    "<!-- Save the notebook -->\n",
    "IPython.notebook.save_checkpoint();"
   ]
  },
  {
   "cell_type": "code",
   "execution_count": null,
   "metadata": {},
   "outputs": [
    {
     "data": {
      "application/javascript": [
       "IPython.notebook.session.delete();\n",
       "window.onbeforeunload = null\n",
       "setTimeout(function() { window.close(); }, 1000);\n"
      ],
      "text/plain": [
       "<IPython.core.display.Javascript object>"
      ]
     },
     "metadata": {},
     "output_type": "display_data"
    }
   ],
   "source": [
    "%%javascript\n",
    "IPython.notebook.session.delete();\n",
    "window.onbeforeunload = null\n",
    "setTimeout(function() { window.close(); }, 1000);"
   ]
  },
  {
   "cell_type": "code",
   "execution_count": null,
   "metadata": {},
   "outputs": [],
   "source": []
  }
 ],
 "metadata": {
  "coursera": {
   "course_slug": "introduction-tensorflow",
   "graded_item_id": "ml06H",
   "launcher_item_id": "hQF8A"
  },
  "kernelspec": {
   "display_name": "Python 3",
   "language": "python",
   "name": "python3"
  },
  "language_info": {
   "codemirror_mode": {
    "name": "ipython",
    "version": 3
   },
   "file_extension": ".py",
   "mimetype": "text/x-python",
   "name": "python",
   "nbconvert_exporter": "python",
   "pygments_lexer": "ipython3",
   "version": "3.6.8"
  }
 },
 "nbformat": 4,
 "nbformat_minor": 1
}
